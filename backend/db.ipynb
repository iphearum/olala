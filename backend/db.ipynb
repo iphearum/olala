{
 "cells": [
  {
   "cell_type": "code",
   "execution_count": 23,
   "metadata": {},
   "outputs": [],
   "source": [
    "import sqlite3\n",
    "import pandas as pd\n",
    "\n",
    "dbfile = \"dict.db\""
   ]
  },
  {
   "cell_type": "code",
   "execution_count": 8,
   "metadata": {},
   "outputs": [],
   "source": [
    "\n",
    "con = sqlite3.connect(dbfile)\n",
    "cur = con.cursor()"
   ]
  },
  {
   "cell_type": "code",
   "execution_count": 9,
   "metadata": {},
   "outputs": [
    {
     "name": "stdout",
     "output_type": "stream",
     "text": [
      "('android_metadata',)\n",
      "('dict',)\n",
      "('sqlite_sequence',)\n",
      "('room_master_table',)\n"
     ]
    }
   ],
   "source": [
    "for row in cur.execute(\"SELECT name FROM sqlite_master WHERE type = 'table'\"):\n",
    "    print(row)"
   ]
  },
  {
   "cell_type": "code",
   "execution_count": 10,
   "metadata": {},
   "outputs": [],
   "source": [
    "table_list = [a for a in cur.execute(\"SELECT name FROM sqlite_master WHERE type = 'table'\")]"
   ]
  },
  {
   "cell_type": "code",
   "execution_count": 11,
   "metadata": {},
   "outputs": [
    {
     "data": {
      "text/plain": [
       "[('android_metadata',),\n",
       " ('dict',),\n",
       " ('sqlite_sequence',),\n",
       " ('room_master_table',)]"
      ]
     },
     "execution_count": 11,
     "metadata": {},
     "output_type": "execute_result"
    }
   ],
   "source": [
    "table_list"
   ]
  },
  {
   "cell_type": "code",
   "execution_count": 34,
   "metadata": {},
   "outputs": [],
   "source": [
    "dicts = cur.execute(\"SELECT * FROM dict\")"
   ]
  },
  {
   "cell_type": "code",
   "execution_count": 35,
   "metadata": {},
   "outputs": [],
   "source": [
    "df = pd.DataFrame(dicts)"
   ]
  },
  {
   "cell_type": "code",
   "execution_count": 39,
   "metadata": {},
   "outputs": [],
   "source": [
    "df = df.rename(columns={0: \"word\",1:\"meaning\",2: \"index\"})"
   ]
  },
  {
   "cell_type": "code",
   "execution_count": 45,
   "metadata": {},
   "outputs": [
    {
     "data": {
      "text/html": [
       "<div>\n",
       "<style scoped>\n",
       "    .dataframe tbody tr th:only-of-type {\n",
       "        vertical-align: middle;\n",
       "    }\n",
       "\n",
       "    .dataframe tbody tr th {\n",
       "        vertical-align: top;\n",
       "    }\n",
       "\n",
       "    .dataframe thead th {\n",
       "        text-align: right;\n",
       "    }\n",
       "</style>\n",
       "<table border=\"1\" class=\"dataframe\">\n",
       "  <thead>\n",
       "    <tr style=\"text-align: right;\">\n",
       "      <th></th>\n",
       "      <th>index</th>\n",
       "      <th>meaning</th>\n",
       "      <th>index</th>\n",
       "    </tr>\n",
       "  </thead>\n",
       "  <tbody>\n",
       "    <tr>\n",
       "      <th>0</th>\n",
       "      <td>ក</td>\n",
       "      <td>&lt;\"8672\"&gt;ព្យញ្ជនៈ/a​&lt;\"5154\"&gt;ទី/a ១ &lt;\"893\"&gt;ក្នុ...</td>\n",
       "      <td>1</td>\n",
       "    </tr>\n",
       "    <tr>\n",
       "      <th>1</th>\n",
       "      <td>ក៏</td>\n",
       "      <td>(និ.) &lt;\"8349\"&gt;ពាក្យ/a​&lt;\"3275\"&gt;ជា/a​&lt;\"12649\"&gt;សន...</td>\n",
       "      <td>2</td>\n",
       "    </tr>\n",
       "    <tr>\n",
       "      <th>2</th>\n",
       "      <td>កក</td>\n",
       "      <td>(កិ.) &lt;\"7708\"&gt;ប្រែ/a​&lt;\"8505\"&gt;ពី/a​&lt;\"10801\"&gt;រាវ...</td>\n",
       "      <td>3</td>\n",
       "    </tr>\n",
       "    <tr>\n",
       "      <th>3</th>\n",
       "      <td>កក់</td>\n",
       "      <td>(កិ.) &lt;\"3252\"&gt;ជម្រះ/a​&lt;\"12364\"&gt;សក់/a​ឲ្យ​&lt;\"147...</td>\n",
       "      <td>4</td>\n",
       "    </tr>\n",
       "    <tr>\n",
       "      <th>4</th>\n",
       "      <td>កក្កដ</td>\n",
       "      <td>បា.; សំ.(ន.)  (&lt;\"354\"&gt;កក៌ដ/a) &lt;\"852\"&gt;ក្ដាម/a ។...</td>\n",
       "      <td>5</td>\n",
       "    </tr>\n",
       "  </tbody>\n",
       "</table>\n",
       "</div>"
      ],
      "text/plain": [
       "   index                                            meaning  index\n",
       "0      ក   <\"8672\">ព្យញ្ជនៈ/a​<\"5154\">ទី/a ១ <\"893\">ក្នុ...      1\n",
       "1     ក៏  (និ.) <\"8349\">ពាក្យ/a​<\"3275\">ជា/a​<\"12649\">សន...      2\n",
       "2     កក  (កិ.) <\"7708\">ប្រែ/a​<\"8505\">ពី/a​<\"10801\">រាវ...      3\n",
       "3    កក់  (កិ.) <\"3252\">ជម្រះ/a​<\"12364\">សក់/a​ឲ្យ​<\"147...      4\n",
       "4  កក្កដ  បា.; សំ.(ន.)  (<\"354\">កក៌ដ/a) <\"852\">ក្ដាម/a ។...      5"
      ]
     },
     "execution_count": 45,
     "metadata": {},
     "output_type": "execute_result"
    }
   ],
   "source": [
    "df.head()"
   ]
  },
  {
   "cell_type": "code",
   "execution_count": 41,
   "metadata": {},
   "outputs": [],
   "source": [
    "df.to_csv('khmer_dict.csv')"
   ]
  }
 ],
 "metadata": {
  "kernelspec": {
   "display_name": "base",
   "language": "python",
   "name": "python3"
  },
  "language_info": {
   "codemirror_mode": {
    "name": "ipython",
    "version": 3
   },
   "file_extension": ".py",
   "mimetype": "text/x-python",
   "name": "python",
   "nbconvert_exporter": "python",
   "pygments_lexer": "ipython3",
   "version": "3.11.4"
  }
 },
 "nbformat": 4,
 "nbformat_minor": 2
}
