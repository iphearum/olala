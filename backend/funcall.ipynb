{
 "cells": [
  {
   "cell_type": "code",
   "execution_count": null,
   "metadata": {},
   "outputs": [],
   "source": [
    "from openai import OpenAI # type: ignore\n",
    "import json"
   ]
  },
  {
   "cell_type": "code",
   "execution_count": null,
   "metadata": {},
   "outputs": [],
   "source": [
    "tools = open('./datasets/tools.json')\n",
    "func_calls = json.load(tools)\n",
    "func_calls"
   ]
  },
  {
   "cell_type": "code",
   "execution_count": null,
   "metadata": {},
   "outputs": [],
   "source": [
    "client = OpenAI(base_url=\"http://localhost:11434/v1\", api_key=\"ollama\")"
   ]
  },
  {
   "cell_type": "code",
   "execution_count": null,
   "metadata": {},
   "outputs": [],
   "source": [
    "res =  client.chat.completions.create(\n",
    "    model=\"phi3\",\n",
    "    messages=[\n",
    "        {\"role\": \"system\", \"content\": \"You are a function-calling\"},\n",
    "        {\"role\": \"tool\", \"content\": \"\"\"{\n",
    "            \"type\": \"function\",\n",
    "            \"function\": {\n",
    "                \"name\": \"get_current_weather\",\n",
    "                \"description\": \"Get the current weather\",\n",
    "                \"parameters\": {\n",
    "                    \"type\": \"object\",\n",
    "                    \"properties\": {\n",
    "                        \"location\": {\n",
    "                            \"type\": \"string\",\n",
    "                            \"description\": \"The city and state, e.g. San Francisco, CA\"\n",
    "                        }\n",
    "                    },\n",
    "                    \"required\": [\"location\"]\n",
    "                }\n",
    "            }\n",
    "        }\"\"\"},\n",
    "        {\"role\": \"user\", \"content\": \"What is the weather for Istanbul?\"},\n",
    "    ],\n",
    "    temperature=0,\n",
    "    tools = func_calls,\n",
    "    parallel_tool_calls = True,\n",
    "    tool_choice=\"auto\",\n",
    "    stream=True\n",
    ")\n",
    "\n",
    "for text in res:\n",
    "    t = text.choices[0].delta.content\n",
    "    print(t, sep=\"\", flush=True)"
   ]
  }
 ],
 "metadata": {
  "kernelspec": {
   "display_name": "base",
   "language": "python",
   "name": "python3"
  },
  "language_info": {
   "codemirror_mode": {
    "name": "ipython",
    "version": 3
   },
   "file_extension": ".py",
   "mimetype": "text/x-python",
   "name": "python",
   "nbconvert_exporter": "python",
   "pygments_lexer": "ipython3",
   "version": "3.10.14"
  }
 },
 "nbformat": 4,
 "nbformat_minor": 2
}
