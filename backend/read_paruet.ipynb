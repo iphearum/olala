{
 "cells": [
  {
   "cell_type": "code",
   "execution_count": null,
   "metadata": {},
   "outputs": [],
   "source": [
    "import pandas as pd"
   ]
  },
  {
   "cell_type": "code",
   "execution_count": null,
   "metadata": {},
   "outputs": [],
   "source": [
    "# !tar -xvjf ./stats/count/CC-MAIN-2018-39/part-00000.bz2 ./"
   ]
  },
  {
   "cell_type": "code",
   "execution_count": null,
   "metadata": {},
   "outputs": [],
   "source": [
    "# df.to_parquet('urls.parquet.gz', compression='gzip', index=False)\n",
    "df = pd.read_csv('./stats/count/CC-MAIN-2018-39/part-00000.bz2', compression=\"bz2\", sep=\" \", on_bad_lines='skip')"
   ]
  },
  {
   "cell_type": "code",
   "execution_count": 24,
   "metadata": {},
   "outputs": [
    {
     "data": {
      "text/html": [
       "<div>\n",
       "<style scoped>\n",
       "    .dataframe tbody tr th:only-of-type {\n",
       "        vertical-align: middle;\n",
       "    }\n",
       "\n",
       "    .dataframe tbody tr th {\n",
       "        vertical-align: top;\n",
       "    }\n",
       "\n",
       "    .dataframe thead th {\n",
       "        text-align: right;\n",
       "    }\n",
       "</style>\n",
       "<table border=\"1\" class=\"dataframe\">\n",
       "  <thead>\n",
       "    <tr style=\"text-align: right;\">\n",
       "      <th></th>\n",
       "      <th>[10,0,40]\\t491</th>\n",
       "    </tr>\n",
       "  </thead>\n",
       "  <tbody>\n",
       "    <tr>\n",
       "      <th>0</th>\n",
       "      <td>[10,204,40]\\t36030</td>\n",
       "    </tr>\n",
       "    <tr>\n",
       "      <th>1</th>\n",
       "      <td>[10,213,40]\\t6</td>\n",
       "    </tr>\n",
       "    <tr>\n",
       "      <th>2</th>\n",
       "      <td>[10,222,40]\\t3</td>\n",
       "    </tr>\n",
       "    <tr>\n",
       "      <th>3</th>\n",
       "      <td>[10,303,40]\\t2987593</td>\n",
       "    </tr>\n",
       "    <tr>\n",
       "      <th>4</th>\n",
       "      <td>[10,312,40]\\t1</td>\n",
       "    </tr>\n",
       "    <tr>\n",
       "      <th>...</th>\n",
       "      <td>...</td>\n",
       "    </tr>\n",
       "    <tr>\n",
       "      <th>15563385</th>\n",
       "      <td>[96,0,40,8,62]\\t196</td>\n",
       "    </tr>\n",
       "    <tr>\n",
       "      <th>15563386</th>\n",
       "      <td>[96,0,40,8,6]\\t89568</td>\n",
       "    </tr>\n",
       "    <tr>\n",
       "      <th>15563387</th>\n",
       "      <td>[96,0,40,8,71]\\t156</td>\n",
       "    </tr>\n",
       "    <tr>\n",
       "      <th>15563388</th>\n",
       "      <td>[96,0,40,8,80]\\t112</td>\n",
       "    </tr>\n",
       "    <tr>\n",
       "      <th>15563389</th>\n",
       "      <td>[96,0,40,8,99]\\t264</td>\n",
       "    </tr>\n",
       "  </tbody>\n",
       "</table>\n",
       "<p>15563390 rows × 1 columns</p>\n",
       "</div>"
      ],
      "text/plain": [
       "                [10,0,40]\\t491\n",
       "0           [10,204,40]\\t36030\n",
       "1               [10,213,40]\\t6\n",
       "2               [10,222,40]\\t3\n",
       "3         [10,303,40]\\t2987593\n",
       "4               [10,312,40]\\t1\n",
       "...                        ...\n",
       "15563385   [96,0,40,8,62]\\t196\n",
       "15563386  [96,0,40,8,6]\\t89568\n",
       "15563387   [96,0,40,8,71]\\t156\n",
       "15563388   [96,0,40,8,80]\\t112\n",
       "15563389   [96,0,40,8,99]\\t264\n",
       "\n",
       "[15563390 rows x 1 columns]"
      ]
     },
     "execution_count": 24,
     "metadata": {},
     "output_type": "execute_result"
    }
   ],
   "source": [
    "# Convert the parsed data to a DataFrame\n",
    "df"
   ]
  },
  {
   "cell_type": "code",
   "execution_count": null,
   "metadata": {},
   "outputs": [],
   "source": [
    "dfs = []\n",
    "for i in range(0,9):\n",
    "    dfs[i] = pd.read_csv(f'./stats/count/CC-MAIN-2018-39/part-0000{i}.bz2', compression='bz2', sep=\" \", on_bad_lines='skip')\n",
    "    print(i)"
   ]
  }
 ],
 "metadata": {
  "kernelspec": {
   "display_name": ".base",
   "language": "python",
   "name": "python3"
  },
  "language_info": {
   "codemirror_mode": {
    "name": "ipython",
    "version": 3
   },
   "file_extension": ".py",
   "mimetype": "text/x-python",
   "name": "python",
   "nbconvert_exporter": "python",
   "pygments_lexer": "ipython3",
   "version": "3.10.13"
  }
 },
 "nbformat": 4,
 "nbformat_minor": 2
}
