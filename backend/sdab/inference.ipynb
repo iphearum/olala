{
 "cells": [
  {
   "cell_type": "code",
   "execution_count": null,
   "metadata": {},
   "outputs": [],
   "source": [
    "%pip install torchaudio torch-ort\n",
    "# %pip install torch-ort"
   ]
  },
  {
   "cell_type": "code",
   "execution_count": null,
   "metadata": {},
   "outputs": [],
   "source": [
    "from sdab import Sdab\n",
    "\n",
    "file_path = \"sample/audio.wav\"\n",
    "model_name = \"metythorn/khmer-asr-openslr\"  # or local directory path\n",
    "sdab = Sdab( file_path = file_path, model_name = model_name ,device='cpu', tokenized= False)\n",
    "print(sdab.result)"
   ]
  }
 ],
 "metadata": {
  "kernelspec": {
   "display_name": "asr",
   "language": "python",
   "name": "python3"
  },
  "language_info": {
   "codemirror_mode": {
    "name": "ipython",
    "version": 3
   },
   "file_extension": ".py",
   "mimetype": "text/x-python",
   "name": "python",
   "nbconvert_exporter": "python",
   "pygments_lexer": "ipython3",
   "version": "3.10.14"
  }
 },
 "nbformat": 4,
 "nbformat_minor": 2
}
