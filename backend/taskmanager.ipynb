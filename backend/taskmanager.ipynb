{
 "cells": [
  {
   "cell_type": "code",
   "execution_count": 1,
   "metadata": {},
   "outputs": [],
   "source": [
    "import threading, random, datetime, time\n",
    "from lib.chatllm import AIChat"
   ]
  },
  {
   "cell_type": "code",
   "execution_count": 12,
   "metadata": {},
   "outputs": [
    {
     "name": "stdout",
     "output_type": "stream",
     "text": [
      "Task 1:0 start in 5 min with 2024-06-26 09:59:53.542628 \n",
      "Task 8:1 start in 3 min with 2024-06-26 09:59:53.544135 \n",
      "Task 4:2 start in 1 min with 2024-06-26 09:59:53.544800 \n",
      "Task 5:3 start in 3 min with 2024-06-26 09:59:53.545114 \n",
      "Task 7:4 start in 3 min with 2024-06-26 09:59:53.545561 \n"
     ]
    },
    {
     "name": "stdout",
     "output_type": "stream",
     "text": [
      "\n",
      "Task 4:2 is running... end in 2024-06-26 09:59:54.545881\n",
      "\n",
      "Task 7:4 is running... end in 2024-06-26 09:59:56.546355\n",
      "\n",
      "Task 8:1 is running... end in 2024-06-26 09:59:56.547842\n",
      "\n",
      "Task 5:3 is running... end in 2024-06-26 09:59:56.548295\n",
      "\n",
      "Task 1:0 is running... end in 2024-06-26 09:59:58.543769\n"
     ]
    }
   ],
   "source": [
    "import threading, random, datetime, time\n",
    "\n",
    "def task(task_id, id):\n",
    "    rand = random.randint(1,7)\n",
    "    print(f\"Task {id}:{task_id} start in {rand} min with {datetime.datetime.now()} \")\n",
    "    time.sleep(rand)\n",
    "    print(f\"\\nTask {id}:{task_id} is running... end in {datetime.datetime.now()}\")\n",
    "    # Perform task operations here\n",
    "\n",
    "threads = []\n",
    "\n",
    "processes = [1,8,4,5,7]\n",
    "i = 0\n",
    "for id in processes:\n",
    "    t = threading.Thread(target=task, args=(i,id))\n",
    "    threads.append(t)\n",
    "    t.start()\n",
    "    i=i+1"
   ]
  },
  {
   "cell_type": "code",
   "execution_count": 2,
   "metadata": {},
   "outputs": [],
   "source": [
    "ai = AIChat()"
   ]
  },
  {
   "cell_type": "code",
   "execution_count": 6,
   "metadata": {},
   "outputs": [],
   "source": [
    "chats = [\n",
    "    \"Hello!, How are you?\",\n",
    "    # \"Do you know LaTeX or KaTeX?\",\n",
    "    \"Compute the derivative of the function $f(x) = 3x^3 - 2x^2 + x - 5$\",\n",
    "]"
   ]
  },
  {
   "cell_type": "code",
   "execution_count": 7,
   "metadata": {},
   "outputs": [],
   "source": [
    "def task(task_id, id):\n",
    "    rand = random.randint(1,2)\n",
    "    # print(f\"Task {id}:{task_id} start in {rand}min with {datetime.datetime.now()} \")\n",
    "    # time.sleep(rand)\n",
    "    print(task_id,id)\n",
    "    ai.chat(chats[task_id], flush=True)\n",
    "    # print(f\"\\nTask {id}:{task_id} is running... end in {datetime.datetime.now()}\")\n",
    "    # Perform task operations here"
   ]
  },
  {
   "cell_type": "code",
   "execution_count": 2,
   "metadata": {},
   "outputs": [
    {
     "ename": "NameError",
     "evalue": "name 'chats' is not defined",
     "output_type": "error",
     "traceback": [
      "\u001b[0;31m---------------------------------------------------------------------------\u001b[0m",
      "\u001b[0;31mNameError\u001b[0m                                 Traceback (most recent call last)",
      "Cell \u001b[0;32mIn[2], line 3\u001b[0m\n\u001b[1;32m      1\u001b[0m threads \u001b[38;5;241m=\u001b[39m []\n\u001b[1;32m      2\u001b[0m i \u001b[38;5;241m=\u001b[39m \u001b[38;5;241m0\u001b[39m\n\u001b[0;32m----> 3\u001b[0m \u001b[38;5;28;01mfor\u001b[39;00m i \u001b[38;5;129;01min\u001b[39;00m \u001b[38;5;28mrange\u001b[39m(\u001b[38;5;241m0\u001b[39m,\u001b[38;5;28mlen\u001b[39m(\u001b[43mchats\u001b[49m)):\n\u001b[1;32m      4\u001b[0m     t \u001b[38;5;241m=\u001b[39m threading\u001b[38;5;241m.\u001b[39mThread(target\u001b[38;5;241m=\u001b[39mtask, args\u001b[38;5;241m=\u001b[39m(i,\u001b[38;5;28mid\u001b[39m))\n\u001b[1;32m      5\u001b[0m     threads\u001b[38;5;241m.\u001b[39mappend(t)\n",
      "\u001b[0;31mNameError\u001b[0m: name 'chats' is not defined"
     ]
    }
   ],
   "source": [
    "threads = []\n",
    "i = 0\n",
    "for i in range(0,len(chats)):\n",
    "    t = threading.Thread(target=task, args=(i,id))\n",
    "    threads.append(t)\n",
    "    t.start()"
   ]
  },
  {
   "cell_type": "code",
   "execution_count": null,
   "metadata": {},
   "outputs": [],
   "source": [
    "threads = []\n",
    "i = 0\n",
    "\n",
    "def start(id):\n",
    "    # Create and start three threads\n",
    "    for i in range(0,2):\n",
    "        t = threading.Thread(target=task, args=(i,id,))\n",
    "        threads.append(t)\n",
    "        t.start()\n",
    "\n",
    "start(1)\n",
    "\n",
    "# # Wait for all threads to complete\n",
    "# for t in threads:\n",
    "#     t.join()"
   ]
  },
  {
   "cell_type": "code",
   "execution_count": null,
   "metadata": {},
   "outputs": [],
   "source": [
    "\n",
    "start(2)"
   ]
  },
  {
   "cell_type": "code",
   "execution_count": null,
   "metadata": {},
   "outputs": [],
   "source": [
    "start(3)"
   ]
  },
  {
   "cell_type": "code",
   "execution_count": null,
   "metadata": {},
   "outputs": [],
   "source": [
    "# pip freeze | grep -E 'flask|werkzeug|flask-socketio'"
   ]
  }
 ],
 "metadata": {
  "kernelspec": {
   "display_name": "base",
   "language": "python",
   "name": "python3"
  },
  "language_info": {
   "codemirror_mode": {
    "name": "ipython",
    "version": 3
   },
   "file_extension": ".py",
   "mimetype": "text/x-python",
   "name": "python",
   "nbconvert_exporter": "python",
   "pygments_lexer": "ipython3",
   "version": "3.10.13"
  }
 },
 "nbformat": 4,
 "nbformat_minor": 2
}
