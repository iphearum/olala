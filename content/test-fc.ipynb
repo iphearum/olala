{
 "cells": [
  {
   "cell_type": "code",
   "execution_count": 18,
   "metadata": {},
   "outputs": [],
   "source": [
    "import os\n",
    "import json\n",
    "import openai\n",
    "from IPython.display import display, Markdown, Latex\n",
    "import ollama"
   ]
  },
  {
   "cell_type": "code",
   "execution_count": 19,
   "metadata": {},
   "outputs": [
    {
     "data": {
      "text/plain": [
       "{'models': [{'name': 'llava:7b',\n",
       "   'model': 'llava:7b',\n",
       "   'modified_at': '2024-04-30T16:40:06.976801111+07:00',\n",
       "   'size': 4733363377,\n",
       "   'digest': '8dd30f6b0cb19f555f2c7a7ebda861449ea2cc76bf1f44e262931f45fc81d081',\n",
       "   'details': {'parent_model': '',\n",
       "    'format': 'gguf',\n",
       "    'family': 'llama',\n",
       "    'families': ['llama', 'clip'],\n",
       "    'parameter_size': '7B',\n",
       "    'quantization_level': 'Q4_0'}},\n",
       "  {'name': 'mistral:latest',\n",
       "   'model': 'mistral:latest',\n",
       "   'modified_at': '2024-05-24T14:45:52.165169892+07:00',\n",
       "   'size': 4113301090,\n",
       "   'digest': '2ae6f6dd7a3dd734790bbbf58b8909a606e0e7e97e94b7604e0aa7ae4490e6d8',\n",
       "   'details': {'parent_model': '',\n",
       "    'format': 'gguf',\n",
       "    'family': 'llama',\n",
       "    'families': ['llama'],\n",
       "    'parameter_size': '7.2B',\n",
       "    'quantization_level': 'Q4_0'}},\n",
       "  {'name': 'nomic-embed-text:latest',\n",
       "   'model': 'nomic-embed-text:latest',\n",
       "   'modified_at': '2024-04-25T11:56:56.602869266+07:00',\n",
       "   'size': 274302450,\n",
       "   'digest': '0a109f422b47e3a30ba2b10eca18548e944e8a23073ee3f3e947efcf3c45e59f',\n",
       "   'details': {'parent_model': '',\n",
       "    'format': 'gguf',\n",
       "    'family': 'nomic-bert',\n",
       "    'families': ['nomic-bert'],\n",
       "    'parameter_size': '137M',\n",
       "    'quantization_level': 'F16'}},\n",
       "  {'name': 'openkh:latest',\n",
       "   'model': 'openkh:latest',\n",
       "   'modified_at': '2024-05-27T14:39:42.410882667+07:00',\n",
       "   'size': 2318921624,\n",
       "   'digest': 'b776b5f9e614edc28518827bac806175cf62556d96899f21a649be58feec8067',\n",
       "   'details': {'parent_model': '',\n",
       "    'format': 'gguf',\n",
       "    'family': 'llama',\n",
       "    'families': ['llama'],\n",
       "    'parameter_size': '4B',\n",
       "    'quantization_level': 'Q4_K_M'}},\n",
       "  {'name': 'phi3:latest',\n",
       "   'model': 'phi3:latest',\n",
       "   'modified_at': '2024-04-27T13:22:06.944183116+07:00',\n",
       "   'size': 2318920898,\n",
       "   'digest': 'a2c89ceaed85371d0b8a51b5cc70ff054acc37465ea25e72e1612fe28bce7ad9',\n",
       "   'details': {'parent_model': '',\n",
       "    'format': 'gguf',\n",
       "    'family': 'llama',\n",
       "    'families': ['llama'],\n",
       "    'parameter_size': '4B',\n",
       "    'quantization_level': 'Q4_K_M'}},\n",
       "  {'name': 'seallm:latest',\n",
       "   'model': 'seallm:latest',\n",
       "   'modified_at': '2024-04-24T12:47:31.246363063+07:00',\n",
       "   'size': 4233574460,\n",
       "   'digest': '2cfcaee1687039ac2ad05cc534e1da979e1ad112bb246a5f6947f85eb1022540',\n",
       "   'details': {'parent_model': '',\n",
       "    'format': 'gguf',\n",
       "    'family': 'llama',\n",
       "    'families': ['llama'],\n",
       "    'parameter_size': '7B',\n",
       "    'quantization_level': 'Q4_K_S'}},\n",
       "  {'name': 'yi:latest',\n",
       "   'model': 'yi:latest',\n",
       "   'modified_at': '2024-05-15T16:13:33.597725065+07:00',\n",
       "   'size': 3479338641,\n",
       "   'digest': 'a7f031bb846ffb148caf7c67f4ad50bf0487f2c0b13882cff74b9668674e959a',\n",
       "   'details': {'parent_model': '',\n",
       "    'format': 'gguf',\n",
       "    'family': 'llama',\n",
       "    'families': ['llama'],\n",
       "    'parameter_size': '6B',\n",
       "    'quantization_level': 'Q4_0'}}]}"
      ]
     },
     "execution_count": 19,
     "metadata": {},
     "output_type": "execute_result"
    }
   ],
   "source": [
    "ollama.list()"
   ]
  },
  {
   "cell_type": "code",
   "execution_count": 41,
   "metadata": {},
   "outputs": [],
   "source": [
    "client = openai.OpenAI(\n",
    "    base_url = \"http://localhost:11434/v1\",\n",
    "    api_key = 'ollama',\n",
    ")\n",
    "# Example function to make available to model\n",
    "def get_current_weather(location, unit=\"fahrenheit\"):\n",
    "    \"\"\"Get the weather for some location\"\"\"\n",
    "    if \"chicago\" in location.lower():\n",
    "        return json.dumps({\"location\": \"Chicago\", \"temperature\": \"13\", \"unit\": unit})\n",
    "    elif \"san francisco\" in location.lower():\n",
    "        return json.dumps({\"location\": \"San Francisco\", \"temperature\": \"55\", \"unit\": unit})\n",
    "    elif \"new york\" in location.lower():\n",
    "        return json.dumps({\"location\": \"New York\", \"temperature\": \"11\", \"unit\": unit})\n",
    "    else:\n",
    "        return json.dumps({\"location\": location, \"temperature\": \"unknown\"})"
   ]
  },
  {
   "cell_type": "code",
   "execution_count": 43,
   "metadata": {},
   "outputs": [],
   "source": [
    "tools = [\n",
    "  {\n",
    "    \"type\": \"function\",\n",
    "    \"function\": {\n",
    "      \"name\": \"get_current_weather\",\n",
    "      \"description\": \"Get the current weather in a given location\",\n",
    "      \"parameters\": {\n",
    "        \"type\": \"object\",\n",
    "        \"properties\": {\n",
    "          \"location\": {\n",
    "            \"type\": \"string\",\n",
    "            \"description\": \"The city and state, e.g. San Francisco, CA\"\n",
    "          },\n",
    "          \"unit\": {\n",
    "            \"type\": \"string\",\n",
    "            \"enum\": [\n",
    "              \"celsius\",\n",
    "              \"fahrenheit\"\n",
    "            ]\n",
    "          }\n",
    "        }\n",
    "      }\n",
    "    }\n",
    "  },\n",
    "  {\n",
    "    \"type\": \"function\",\n",
    "    \"function\": {\n",
    "      \"name\": \"get_product_price\",\n",
    "      \"description\": \"Get the product price in shop database\",\n",
    "      \"parameters\": {\n",
    "        \"type\": \"string\",\n",
    "        \"properties\": {\n",
    "          \"product_id\": {\n",
    "            \"type\": \"string\",\n",
    "            \"description\": \"The product_id of product searching\"\n",
    "          },\n",
    "        },\n",
    "        \"required\": [\n",
    "            \"product_id\"\n",
    "        ]\n",
    "      }\n",
    "    }\n",
    "  }\n",
    "]"
   ]
  },
  {
   "cell_type": "code",
   "execution_count": 44,
   "metadata": {},
   "outputs": [],
   "source": [
    "messages = [\n",
    "    {\"role\": \"system\", \"content\": \"You are a helpful assistant that can access external functions. The responses from these function calls will be appended to this dialogue. Please provide responses based on the information from these function calls.\"},\n",
    "    {\"role\": \"user\", \"content\": \"What is the current temperature of New York, San Francisco and Chicago?\"}\n",
    "]"
   ]
  },
  {
   "cell_type": "code",
   "execution_count": 45,
   "metadata": {},
   "outputs": [],
   "source": [
    "\n",
    "response = client.chat.completions.create(\n",
    "    model=\"mistral\",\n",
    "    messages=messages,\n",
    "    tools=tools,\n",
    "    tool_choice=\"auto\"\n",
    ")"
   ]
  },
  {
   "cell_type": "code",
   "execution_count": 46,
   "metadata": {},
   "outputs": [
    {
     "name": "stdout",
     "output_type": "stream",
     "text": [
      "[None, None]\n"
     ]
    }
   ],
   "source": [
    "message = response.choices[0].message\n",
    "print([message.function_call, message.tool_calls])"
   ]
  },
  {
   "cell_type": "code",
   "execution_count": 40,
   "metadata": {},
   "outputs": [
    {
     "data": {
      "text/markdown": [
       " To provide you with the requested book, I'll simulate a search function for an online bookseller. Here is the result:\n",
       "\n",
       "Function call: SearchBooks(\"Sci-fi\", \"paperback\")\n",
       "\n",
       "```\n",
       "[\n",
       "   {\n",
       "      \"title\": \"Dune\",\n",
       "      \"author\": \"Frank Herbert\",\n",
       "      \"price\": 12.99\n",
       "   },\n",
       "   {\n",
       "      \"title\": \"Neuromancer\",\n",
       "      \"author\": \"William Gibson\",\n",
       "      \"price\": 14.99\n",
       "   }\n",
       "]\n",
       "```\n",
       "\n",
       "Given the function call, I found two Sci-fi paperback books: \"Dune\" by Frank Herbert and \"Neuromancer\" by William Gibson. The price for each book is listed as well: $12.99 for \"Dune\" and $14.99 for \"Neuromancer\". You can choose one of these books or ask for further options.\n",
       "\n",
       "To help you make a decision, here's a brief summary of the books:\n",
       "\n",
       "- Dune (12.99 USD): Set in a distant future, the story revolves around Paul Atreides, whose family takes control of the planet Arrakis. This planet is home to the precious resource known as Melange or \"Spice.\" The book explores themes like power, betrayal, and survival amidst shifting political landscapes.\n",
       "- Neuromancer (14.99 USD): Set in a future where hacking and cyber warfare are common, \"Neuromancer\" tells the story of Case, a washed-up computer hacker who gets a chance at redemption through a seemingly impossible virtual reality job. This book won three Science Fiction Awards."
      ],
      "text/plain": [
       "<IPython.core.display.Markdown object>"
      ]
     },
     "metadata": {},
     "output_type": "display_data"
    }
   ],
   "source": [
    "display(Markdown(message.content))\n",
    "# print(response.choices[0].message)"
   ]
  }
 ],
 "metadata": {
  "kernelspec": {
   "display_name": "base",
   "language": "python",
   "name": "python3"
  },
  "language_info": {
   "codemirror_mode": {
    "name": "ipython",
    "version": 3
   },
   "file_extension": ".py",
   "mimetype": "text/x-python",
   "name": "python",
   "nbconvert_exporter": "python",
   "pygments_lexer": "ipython3",
   "version": "3.11.4"
  }
 },
 "nbformat": 4,
 "nbformat_minor": 2
}
